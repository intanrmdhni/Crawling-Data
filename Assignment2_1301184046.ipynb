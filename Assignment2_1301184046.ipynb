{
  "nbformat": 4,
  "nbformat_minor": 0,
  "metadata": {
    "colab": {
      "name": "Assignment2_1301184046.ipynb",
      "provenance": [],
      "collapsed_sections": []
    },
    "kernelspec": {
      "name": "python3",
      "display_name": "Python 3"
    },
    "language_info": {
      "name": "python"
    }
  },
  "cells": [
    {
      "cell_type": "code",
      "metadata": {
        "id": "ldkKHfKdJD3c"
      },
      "source": [
        "import tweepy\n",
        "import pandas as pd\n",
        "import networkx as nx\n",
        "import matplotlib.pyplot as plt"
      ],
      "execution_count": 1,
      "outputs": []
    },
    {
      "cell_type": "code",
      "metadata": {
        "id": "O37HY_G7JlZF"
      },
      "source": [
        "api_key = \"FRoUKq4HMYIkj2Ykf9Pb2o3WF\"\n",
        "api_secret_key = \"x2UYgYM30KvMM3E1uhi9dpPrZ6XdTgKNvxJ3lvK1rBaVN2lvFp\"\n",
        "access_token = \"926363307295965185-waUlnNAKcVhnXvrLHfDVNZCvMfEU1L1\"\n",
        "access_token_secret = \"Dlslg0lIp8BhbG1smnWkoyxzpsanemxg9RNZQl7nkJDhx\""
      ],
      "execution_count": 2,
      "outputs": []
    },
    {
      "cell_type": "code",
      "metadata": {
        "id": "QtZUhnxVJnds"
      },
      "source": [
        "auth = tweepy.OAuthHandler(api_key, api_secret_key)\n",
        "auth.set_access_token(access_token, access_token_secret)\n",
        "api = tweepy.API(auth, wait_on_rate_limit=True, \n",
        "wait_on_rate_limit_notify=True, compression=True)"
      ],
      "execution_count": 3,
      "outputs": []
    },
    {
      "cell_type": "markdown",
      "metadata": {
        "id": "puOPNd16NGaE"
      },
      "source": [
        "# **No 1 (User Profile)**\n",
        "Build a crawler that collects a user's profile information from Twitter given the user's Twitter ID\n",
        "\n",
        "User's ID = \"taner0_\""
      ]
    },
    {
      "cell_type": "code",
      "metadata": {
        "colab": {
          "base_uri": "https://localhost:8080/"
        },
        "id": "XUruLM3IJutz",
        "outputId": "0f76ca66-9fdf-41fc-9416-1618e61ade4e"
      },
      "source": [
        "profil = api.get_user(screen_name='taner0_')\n",
        "print(\"user id:\", profil.id)\n",
        "print(\"user name:\",profil.screen_name)\n",
        "print(\"user location:\", profil.location)\n",
        "print(\"user bio:\", profil.description)\n",
        "print(\"user followers count:\", profil.followers_count)\n",
        "print(\"user friends count:\", profil.friends_count)\n",
        "print(\"the number of Tweets (including retweets) issued by the user:\", profil.statuses_count)\n",
        "print(\"user account was created on Twitter\", profil.created_at)\n",
        "print(\"user url: \", profil.url)"
      ],
      "execution_count": 4,
      "outputs": [
        {
          "output_type": "stream",
          "name": "stdout",
          "text": [
            "user id: 926363307295965185\n",
            "user name: taner0_\n",
            "user location: \n",
            "user bio: STAY - Fujo - Nijisanji fans - Holopro fans\n",
            "user followers count: 16\n",
            "user friends count: 217\n",
            "the number of Tweets (including retweets) issued by the user: 843\n",
            "user account was created on Twitter 2017-11-03 08:19:58\n",
            "user url:  None\n"
          ]
        }
      ]
    },
    {
      "cell_type": "markdown",
      "metadata": {
        "id": "JxpY6YtINS87"
      },
      "source": [
        "# **No 2 (Social Network)**\n",
        "Build a crawler that collects a user's social network information given the user's ID\n",
        "\n",
        "User's ID = \"taner0_\""
      ]
    },
    {
      "cell_type": "code",
      "metadata": {
        "colab": {
          "base_uri": "https://localhost:8080/"
        },
        "id": "IH5DOA7MJxVE",
        "outputId": "4276fd74-57ff-4718-f1f0-558068d5e511"
      },
      "source": [
        "user = api.get_user(screen_name='taner0_')\n",
        "print(\"user name:\",user.screen_name)"
      ],
      "execution_count": 5,
      "outputs": [
        {
          "output_type": "stream",
          "name": "stdout",
          "text": [
            "user name: taner0_\n"
          ]
        }
      ]
    },
    {
      "cell_type": "code",
      "metadata": {
        "colab": {
          "base_uri": "https://localhost:8080/"
        },
        "id": "EceugpUpJ0dv",
        "outputId": "62989fca-d915-45f5-da99-9179c69b0a06"
      },
      "source": [
        "print(\"following:\",user.friends_count)\n",
        "for friend in user.friends():\n",
        "   print(friend.screen_name)"
      ],
      "execution_count": 6,
      "outputs": [
        {
          "output_type": "stream",
          "name": "stdout",
          "text": [
            "following: 217\n",
            "n0ah_kurumi\n",
            "ApexerCpt\n",
            "CRCupApex\n",
            "crazyraccoon406\n",
            "NaO_O28\n",
            "tsukishitakaoru\n",
            "hhhyorih\n",
            "052122ta\n",
            "HOK5GT\n",
            "p01102018\n",
            "cover_corp\n",
            "rszelon\n",
            "twitcastinglive\n",
            "K_521212\n",
            "Selen_Tatsuki\n",
            "unou_mha\n",
            "natsuiromatsuri\n",
            "hironeko\n",
            "yuzukichococh\n",
            "Genshin_7\n"
          ]
        }
      ]
    },
    {
      "cell_type": "code",
      "metadata": {
        "colab": {
          "base_uri": "https://localhost:8080/"
        },
        "id": "eJgmzumeJ25H",
        "outputId": "4eff121a-7ac2-4a11-c9ac-aa00c847d2fa"
      },
      "source": [
        "print(\"followers:\",user.followers_count)\n",
        "for followers in user.followers():\n",
        "   print(followers.screen_name)"
      ],
      "execution_count": 7,
      "outputs": [
        {
          "output_type": "stream",
          "name": "stdout",
          "text": [
            "followers: 16\n",
            "n_art13\n",
            "__fifi__07\n",
            "Haruka27091810\n",
            "christinalim__\n",
            "AnnisaFitria_06\n",
            "Shaaggyy2\n",
            "yusufyop\n",
            "etedadd\n",
            "spiritpunx\n",
            "nadyap_s\n",
            "hannah2official\n",
            "alifanedyaa\n",
            "AliyaDinda2\n",
            "nstrxxxx\n",
            "millanieca\n",
            "nadanesyifa\n"
          ]
        }
      ]
    },
    {
      "cell_type": "code",
      "metadata": {
        "colab": {
          "base_uri": "https://localhost:8080/"
        },
        "id": "DWiT5giWJ50T",
        "outputId": "c9b7e0d1-3033-4495-e8de-abae6693e54d"
      },
      "source": [
        "user_list = [\"926363307295965185\"]\n",
        "follower_list = []\n",
        "for user in user_list:\n",
        "    followers = []\n",
        "    try:\n",
        "        for page in tweepy.Cursor(api.followers_ids, user_id=user).pages():\n",
        "            followers.extend(page)\n",
        "            print(len(followers))\n",
        "    except tweepy.TweepError:\n",
        "        print(\"error\")\n",
        "        continue\n",
        "    follower_list.append(followers)"
      ],
      "execution_count": 8,
      "outputs": [
        {
          "output_type": "stream",
          "name": "stdout",
          "text": [
            "16\n"
          ]
        }
      ]
    },
    {
      "cell_type": "code",
      "metadata": {
        "id": "2iQNTtzmKAA7"
      },
      "source": [
        "df = pd.DataFrame(columns=['source','target'])\n",
        "df['target'] = follower_list[0]\n",
        "df['source'] = 926363307295965185"
      ],
      "execution_count": 9,
      "outputs": []
    },
    {
      "cell_type": "code",
      "metadata": {
        "id": "8-KInz9PKKfA"
      },
      "source": [
        "G = nx.from_pandas_edgelist(df, 'source', 'target')\n",
        "pos = nx.spring_layout(G)"
      ],
      "execution_count": 10,
      "outputs": []
    },
    {
      "cell_type": "code",
      "metadata": {
        "colab": {
          "base_uri": "https://localhost:8080/",
          "height": 592
        },
        "id": "m605mv8NLQoJ",
        "outputId": "a1953d07-01f4-4046-d812-52ea0435af48"
      },
      "source": [
        "f, ax = plt.subplots(figsize=(10, 10))\n",
        "plt.style.use('ggplot')\n",
        "nodes = nx.draw_networkx_nodes(G, pos, alpha=0.8)\n",
        "nodes.set_edgecolor('k')\n",
        "nx.draw_networkx_labels(G, pos, font_size=8)\n",
        "nx.draw_networkx_edges(G, pos, width=1.0, alpha=0.2)"
      ],
      "execution_count": 11,
      "outputs": [
        {
          "output_type": "execute_result",
          "data": {
            "text/plain": [
              "<matplotlib.collections.LineCollection at 0x7fafdd2c61d0>"
            ]
          },
          "metadata": {},
          "execution_count": 11
        },
        {
          "output_type": "display_data",
          "data": {
            "image/png": "[encoded data removed]",
            "text/plain": [
              "<Figure size 720x720 with 1 Axes>"
            ]
          },
          "metadata": {}
        }
      ]
    },
    {
      "cell_type": "markdown",
      "metadata": {
        "id": "u2jT16FiNoF3"
      },
      "source": [
        "# **No 3 (Search & Geo)**\n",
        "Build a crawler that collects the tweets using a set of specified keywords and a geolocation based criteria\n",
        "\n",
        "Kata pencarian = \"Senang\"\n",
        "Lokasi = Sukaraja, Bogor"
      ]
    },
    {
      "cell_type": "code",
      "metadata": {
        "colab": {
          "base_uri": "https://localhost:8080/"
        },
        "id": "GNCB7YD_5gYq",
        "outputId": "710c4ceb-31ce-4287-95e3-260fbd39cb89"
      },
      "source": [
        "search_words = \"happy\"\n",
        "tweets1 = tweepy.Cursor(api.search,q=search_words).items(50)\n",
        "tweets1"
      ],
      "execution_count": 32,
      "outputs": [
        {
          "output_type": "execute_result",
          "data": {
            "text/plain": [
              "<tweepy.cursor.ItemIterator at 0x7fafd4130b10>"
            ]
          },
          "metadata": {},
          "execution_count": 32
        }
      ]
    },
    {
      "cell_type": "code",
      "metadata": {
        "colab": {
          "base_uri": "https://localhost:8080/"
        },
        "id": "nSXKVydk5mJN",
        "outputId": "3ab6f313-1663-4c20-b95f-100b4855a61f"
      },
      "source": [
        "i=1\n",
        "for tweet in tweets1:\n",
        "  print(i,\"Tweet:\",tweet.text)\n",
        "  i+= 1"
      ],
      "execution_count": 33,
      "outputs": [
        {
          "output_type": "stream",
          "name": "stdout",
          "text": [
            "1 Tweet: RT @osuoraatai: 【アタイのアタイによるアタイフォロワーの企画】\n",
            "\n",
            "深夜にHAPPYキャンペーン💘\n",
            "\n",
            "アマギフ1000円分×3名様にプレゼント🎁\n",
            "\n",
            "応募方法\n",
            "①このアタイツイートをいいね♡\n",
            "②アタイ@osuoraatai をフォロー\n",
            "\n",
            "当選者様には深夜にDMにて祝…\n",
            "2 Tweet: RT @__2raw: Breakups are ok. Starting over is ok. Moving on is ok. Saying no is ok. Being alone is ok. What is not ok is staying somewhere…\n",
            "3 Tweet: RT @texturedheir: Happy Birthday @ashanti  Legendary vocals, legendary pen, legendary beauty. We cannot wait to hear her new version of her…\n",
            "4 Tweet: Still going terribly and if I never have to study Chaucer again I shall die a happy man https://t.co/y1tFHNGFzn\n",
            "5 Tweet: RT @jjklve_: jungkook singing jimin happy birthday!!! https://t.co/OQpOOHSjo4\n",
            "6 Tweet: RT @hbd_mm: 🍏\n",
            "\n",
            "11월 13일 매화의 생일을 맞아,\n",
            "주거취약계층의 자립을 돕는 &lt;빅이슈 코리아&gt; 262호 스프레드 지면 광고를 진행합니다.\n",
            "\n",
            "양매화 어머니회 회원분들의 많은 관심 부탁드립니다.\n",
            "\n",
            "#HAPPY_MAEHWA_DAY\n",
            "#겨울에_핀…\n",
            "7 Tweet: RT @PyaariiLadkii: Finally teja ki entry ho gyi bb house main 🤩\n",
            "\n",
            "Literally so happy for her 😭❤ she deserves this ❤\n",
            "\n",
            "#TejasswiPrakash #BB15…\n",
            "8 Tweet: RT @btschimmychim: Happy birthday!! Thank you so much and we purple you baby mochi 💜💜\n",
            "#JIMINDAY \n",
            "#jiminbirthday \n",
            "#JIMINTOBER https://t.co/Y…\n",
            "9 Tweet: RT @AliceBlack_bl: 🐣Happy Jimin Day🐣\n",
            "\n",
            "กติกา : รีทวิตอย่างเดียวค่ะ\n",
            "(ใครใจดีอวยพรหรือปารูปน่ารักๆของน้องมาด้วยก็ได้นะคะ)\n",
            "\n",
            "*สงวนสิทธิ์ให้เฉพาะ…\n",
            "10 Tweet: RT @kaz_hn: Happy 2.2! 🥳 #原神 https://t.co/XCf7185c04\n",
            "11 Tweet: RT @juliaccarpenter: Happy October 11 to all who celebrate 💓🎇 https://t.co/TcUdDb3j9F\n",
            "12 Tweet: RT @Bey_Legion: Beyoncé wishes @ashanti a happy 41st birthday. 🎉\n",
            "\n",
            "https://t.co/EoiUY4UJT5 https://t.co/ROUPaai7mb\n",
            "13 Tweet: RT @aIwaysvante: i'm so happy taehyung is finally having a time for himself and visiting the places he loves\n",
            "14 Tweet: @cowboyk1ll3r @AltcoinDailyio l'm very pleased to celebrate my cashout with everyone in the page. Indeed I'm happy… https://t.co/HsVlFdUmo3\n",
            "15 Tweet: RT @Bey_Legion: Beyoncé wishes @ashanti a happy 41st birthday. 🎉\n",
            "\n",
            "https://t.co/EoiUY4UJT5 https://t.co/ROUPaai7mb\n",
            "16 Tweet: RT @TinyTANofficial: Just let us make you bloom\n",
            "Wishing you have a day filled with flowers🌸\n",
            "\n",
            "#Happy_Jimin_Day #TinyTAN #Birth_Flower #Spire…\n",
            "17 Tweet: @OfficialKJB Happy Wednesday Kimberly about to watch Halloweentown again on Freeform's 31 days of Halloween!🧡🖤🎃 https://t.co/an7CsLWHP3\n",
            "18 Tweet: @BTS_twt HAPPY 40M BFF\n",
            "19 Tweet: Happy Birthday Sam!!!!!! 🎂🎉🎈🎁🎊🥳💜 @SamuelMikulak\n",
            "20 Tweet: RT @mahiway_7: I wish that the glory &amp; flame of Maa Durga always be with you to bestow energy &amp; blessings in your life.\n",
            "May no evil ever to…\n",
            "21 Tweet: RT @fairy_yoongs: @choi_bts2 @BTS_twt Omg so he saw the fan projects! \n",
            "the purple light comes from the \"Happy Jimin Day\" 🥺 https://t.co/2bd…\n",
            "22 Tweet: RT @LuaHilda: Happy day friends!!!.. 🤗🌞☕🥞🍞🍪🥃🍐🍎😘 https://t.co/a7JANQDpUh\n",
            "23 Tweet: RT @frdrck___: Me: Happy Birthday! *writes a nice message*\n",
            "\n",
            "Their reply:“Thanks”. \n",
            "\n",
            "Me: https://t.co/sCgLvt2THN\n",
            "24 Tweet: RT @NeutradolFresh: *GIVEAWAY*\n",
            "\n",
            "HAPPY HALLOWEEN!\n",
            "WIN A MYSTERY BUNDLE FROM NEUTRADOL!\n",
            "\n",
            "TO ENTER:\n",
            "Follow Us \n",
            "Like, Share and Save this Post…\n",
            "25 Tweet: RT @Yukaruu1: Happy birthday jimin!🤧💛\n",
            "Ou Jimin Skellington lol\n",
            "#octubermagic \n",
            "\n",
            "#JIMINDAY #art #digitalpainting #digitalart #digitaldrawing…\n",
            "26 Tweet: RT @_jadealexisss: HAPPY BIRTHDAY TO MY OLDEST DAUGHTER @pradamulada !!!! 💙💙💙💙💙💙 I love you Shavia!\n",
            "27 Tweet: RT @EmmyRichie_: The life that makes you happy puts them in pain… pay less attention\n",
            "28 Tweet: @Harry_Styles I'm happy you came back after a lot\n",
            "29 Tweet: RT @FallonTonight: Happy birthday, Jimin! 🎂💜 @BTS_twt https://t.co/NeUBqcWUdi\n",
            "30 Tweet: RT @whynothomer: More evidence of #PolPotPatel 's journey to the centre of the circles of hell. I'm happy for her to go alone but to drag m…\n",
            "31 Tweet: RT @manika_1997: It says \"cutie, sexy, lovely Jimin happy birthday\" 🥺\n",
            "\n",
            "personally i love how there's not just purple but also yellow heart…\n",
            "32 Tweet: RT @Resonance_0214: @TRex_Punks really came through on this one! 🦖 I received my #NFT framed as promised. I also used my free 500 $DVK to m…\n",
            "33 Tweet: RT @urstrulyMahesh: One of my biggest influences.. he's someone I've always looked up to! 🤗 Wishing my Annaya a very happy birthday!! Healt…\n",
            "34 Tweet: RT @RAlNE_WHISPERS: HAPPY ANNIVERSARY TO SEASON 3 OF KIPO https://t.co/pEAoQB8p5G\n",
            "35 Tweet: RT @Pedro_Penda: Happy for whoever will buy this well taken care of Polo.\n",
            "36 Tweet: Family Thanksgiving Funny Puns Idea Group T-Shirts\n",
            "Happy Thanksgiving! Our best deals are on T-shirts that feature… https://t.co/YpeRvMBM7x\n",
            "37 Tweet: RT @SeffSaid: \"If you have the power to make someone happy, do it. The world needs more of that.\" - Unknown\n",
            "38 Tweet: RT @strxngerlies: happy emo day to the biggest emo i know aka @Michael5SOS https://t.co/dR6Mo3maNW\n",
            "39 Tweet: An amazing amount raised! Your bids mean so much to families like Catherine’s \"I remember the day Graeme went into… https://t.co/sDkT8cA4gL\n",
            "40 Tweet: POSLANICA DANIJELA VUJIČIĆ ZA HAPPY BSC: https://t.co/DYIFoaMZT2\n",
            "41 Tweet: @badmansettinz @mugo_kinja @mukkss_ I'm happy for you mate. Hope you'll be happy together.\n",
            "42 Tweet: RT @RulzKay1_: I've told myself that since I'm not umuntu who is happy, I will cultivate good vibes and create moments and relationships wh…\n",
            "43 Tweet: RT @nayuta_knt: Happy Halloween！！ちょっと早いけど…？\n",
            "背景にパーティ全員描こうと考えたけど挫折しましたorz https://t.co/GlLxrHP4v0\n",
            "44 Tweet: @BTS_twt happy birthday mochi 💜🇧🇷\n",
            "45 Tweet: RT @kuuneho_: peepaw is happy https://t.co/8O79fEcr9p\n",
            "46 Tweet: @airdropblgspot @BoomFinance1 This project will go much further in the future because the team working on it is ver… https://t.co/bJHqSudcFR\n",
            "47 Tweet: RT @ZER0XBLACK: Happy Birthday! 🎉🐥🐰🎂 https://t.co/7c3zfnkAgC\n",
            "48 Tweet: @WilliamShatner I'm happy that you enjoyed yourself and so glad that you are back on 🌎 😀 #BlueOrigin\n",
            "49 Tweet: @mindykaling @MrSalPerez Happy Birthday to perhaps the best costume designer in show business. I *still* think abou… https://t.co/KdKIKFonJg\n",
            "50 Tweet: If you want others to be happy, practice compassion. If you want to be happy, practice compassion.\n",
            "WE STAND BY PRATIK\n"
          ]
        }
      ]
    },
    {
      "cell_type": "code",
      "metadata": {
        "colab": {
          "base_uri": "https://localhost:8080/"
        },
        "id": "i7eyLsSnxRXb",
        "outputId": "cf2d9895-aee8-4bc4-c505-08be5f105d0e"
      },
      "source": [
        "geo = '-6.59476524,106.82446282,235km'\n",
        "tweets = tweepy.Cursor(api.search,geocode=geo).items(50)\n",
        "tweets"
      ],
      "execution_count": 30,
      "outputs": [
        {
          "output_type": "execute_result",
          "data": {
            "text/plain": [
              "<tweepy.cursor.ItemIterator at 0x7fafd412b790>"
            ]
          },
          "metadata": {},
          "execution_count": 30
        }
      ]
    },
    {
      "cell_type": "code",
      "metadata": {
        "colab": {
          "base_uri": "https://localhost:8080/"
        },
        "id": "DHgoVuWSxSoM",
        "outputId": "16e62f2b-ce16-48fa-ff5e-f2998bc7e4dd"
      },
      "source": [
        "i=1\n",
        "for tweet in tweets:\n",
        "  print(i,\"Tweet:\",tweet.text)\n",
        "  i+= 1"
      ],
      "execution_count": 31,
      "outputs": [
        {
          "output_type": "stream",
          "name": "stdout",
          "text": [
            "1 Tweet: Kucing tetangga pake kalung yg bunyi, tiap denger suara krincingnya, horor banget. Arah suaranya bukan dari luar ru… https://t.co/o3uSmxtN9l\n",
            "2 Tweet: @tokopedia Semangat!\n",
            "#UsahaLokal #BangkitBersama\n",
            "#UsahaLokal #BangkitBersama\n",
            "👉 5.277\n",
            "3 Tweet: @crypto_bearr Done https://t.co/cfrq7sHCBy\n",
            "4 Tweet: @FWBESS Gas\n",
            "5 Tweet: @minumbobayuk ayo makan beb https://t.co/3h9vt4M2yy\n",
            "6 Tweet: Mungkin harus sedikit gila ,untuk menghadapi dunia yang penuh drama\n",
            "\n",
            "Srepeeet :v\n",
            "7 Tweet: Gunung Merapi Alami 203 Kali Gempa Guguran Dalam Sehari https://t.co/r1fY6jdARt\n",
            "8 Tweet: @Iiquorcy @CryptosHeaven1 ch\n",
            "9 Tweet: नेपाललाई कोरोनामुक्त बनाउन ध्यान केन्द्रित गर्छु : नवनियुक्त स्वास्थ्यमन्त्री खतिवडा - Rabi Bazar News https://t.co/ogpfUmD9gO\n",
            "10 Tweet: Layanan Pengurusan PT di Rancasari – Kota Bandung https://t.co/JHAlyOnx1X\n",
            "11 Tweet: Pake masker, diinisialkan, minta maaf, kelar\n",
            "No jail time needed https://t.co/vyUcNabsFG\n",
            "12 Tweet: @DickDurbin BETTER NOW THAN NEVER!\n",
            "#ReplenishRRF #SaveRestaurants \n",
            "@HouseDemocrats @SenateDems @HouseGOP @SenateGOP @POTUS\n",
            "13 Tweet: @qiiifaw Hadeee mba mba \n",
            "\n",
            "Lo daptnya cowo modelan begitu, mknya lo berpikirn gitu ga semua cowo bisa ngerusak pasan… https://t.co/5blfDhRkvg\n",
            "14 Tweet: @BejoNuswantoro @Slickxbtee Done 01.27 https://t.co/kJp1YE3Isx\n",
            "15 Tweet: @Iiquorcy @CryptosHeaven1 ch\n",
            "16 Tweet: Dealova adaro\n",
            "Huniaan masa depan dan inventasi https://t.co/VJh2lmlkGl\n",
            "17 Tweet: @Missypromotes @fancygirls_nft DC : marthin01 https://t.co/2PDZK56ihe\n",
            "18 Tweet: @tidakrata @babyngeped izin dulu sama aku\n",
            "19 Tweet: @mmengsadboy ndak og\n",
            "20 Tweet: @ShopeeID Bismillah rezeki aku 😇\n",
            "Pilih B\n",
            "Pilih B\n",
            "Pilih B\n",
            "#MiminShopeeBagiSmartphone \n",
            "1.201\n",
            "21 Tweet: Jam jamnya video satisfying 🤣\n",
            "22 Tweet: @txtdaritng 🤢🤮\n",
            "23 Tweet: Rabi po shopi paylater e og mek pirang sasi ki. https://t.co/bCyozHUfk4\n",
            "24 Tweet: @gibranrr Y los de “izquierda” \n",
            "se hacen bien pendejos.\n",
            "\n",
            "Supongo que cuando protestaban antes era “pura hipocresía”\n",
            "25 Tweet: @GemSantosCrypto Deeply appreciated! 👍🍹\n",
            "26 Tweet: @thetitanborn https://t.co/KWMfKEYoFp\n",
            "27 Tweet: @yolowraxxx 2\n",
            "28 Tweet: Jika nanti aku bilang \"aku bahagia\n",
            "melihat kamu bersamanya\", itu\n",
            "hanya kebohongan terhebatku.\n",
            "29 Tweet: @FWBESS Malam Minggu yuk? Bekasi mananya biar dijemput\n",
            "30 Tweet: @altertimebase Yuup\n",
            "31 Tweet: Wkwkwkwk https://t.co/eNe6vn66gc\n",
            "32 Tweet: here we go again...\n",
            "33 Tweet: @thatgirlgatto you too steph\n",
            "34 Tweet: الفراشة رغم جمالها حشرة .. الصبار رغم قسوته زهرة .. فلا تحكم على الناس من أشكالهم .. بل أحكم عليهم بما تحتويه قلوبهم ..\n",
            "35 Tweet: #DeFiLand \n",
            "\n",
            "I hope there is a game with farming system functions and complete features\n",
            "36 Tweet: Tak Sekadar Gelar Vaksinasi, Kejati dan APINDO DKI Borong Produk UMKM di Kelurahan Kalibaru https://t.co/X2hrtb8GMz\n",
            "37 Tweet: @FWBESS Hayuu\n",
            "38 Tweet: @Shill_Ronin @Baby_N4na @TheCryptoVyom @crazydudeclub @cryptowhalexx Bismillah semoga rezeki aku Aamiin \n",
            "Done bang… https://t.co/E1WZfzmrcc\n",
            "39 Tweet: @tokopedia Semangat!\n",
            "#UsahaLokal #BangkitBersama\n",
            "#UsahaLokal #BangkitBersama\n",
            "👉 5.276\n",
            "40 Tweet: entah kapan tabir ini terungkap, tentang seberapa lama hati ini berkecamuk, dan pikiran yg semakin larut tenggelam.… https://t.co/FscGqT6zLP\n",
            "41 Tweet: @Njunnm @bertanyarl Iya yg bisa jalan jalan kelilint kota pake mobil\n",
            "42 Tweet: @ShopeeID Bismillah rezeki aku 😇\n",
            "Pilih B\n",
            "Pilih B\n",
            "Pilih B\n",
            "#MiminShopeeBagiSmartphone \n",
            "1.200\n",
            "43 Tweet: @moviemenfes shoplifters, nonton aja. udh banyak yg bilang 10/10 ko rekomen bgt. Oh iya ini film di peruntukan 18+… https://t.co/FBeUiM9Zrb\n",
            "44 Tweet: @nakalboyyy Gas\n",
            "45 Tweet: @sksknoid Duh\n",
            "46 Tweet: @LarasatiPN wahhh buka jasa wae ras\n",
            "47 Tweet: Simba ne phele baar muh khola aur uska phela word tha \"UMAR \"\n",
            "\n",
            "Jab bacha bolna sikhta hai toh phele Apne Maa Ya Baa… https://t.co/n4MG1vEUM4\n",
            "48 Tweet: @rreembulan Aku juga ga tau dimana\n",
            "49 Tweet: Wishlist becoming deathlist\n",
            "50 Tweet: @urpowersupply Haii\n"
          ]
        }
      ]
    }
  ]
}